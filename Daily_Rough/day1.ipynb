{
 "cells": [
  {
   "cell_type": "code",
   "execution_count": 4,
   "id": "fdd727bf",
   "metadata": {},
   "outputs": [
    {
     "name": "stdout",
     "output_type": "stream",
     "text": [
      "The sum of two digits is:  4\n",
      "The substraction of two digits is:  0\n",
      "The division of two digits is:  1.0\n",
      "The multiplication of two digits is:  4\n"
     ]
    }
   ],
   "source": [
    "a = int(input(\"Please enter the first number: \"));\n",
    "b = int(input(\"Please enter the second number: \"));\n",
    "\n",
    "sum = a+b;\n",
    "print(\"The sum of two digits is: \" , sum)\n",
    "Substraction = a-b;\n",
    "print(\"The substraction of two digits is: \" , Substraction)\n",
    "Division = a/b;\n",
    "print(\"The division of two digits is: \" , Division)\n",
    "Multiplication = a*b;\n",
    "print(\"The multiplication of two digits is: \" , Multiplication)"
   ]
  },
  {
   "cell_type": "code",
   "execution_count": 5,
   "id": "0c97433d",
   "metadata": {},
   "outputs": [
    {
     "data": {
      "text/plain": [
       "True"
      ]
     },
     "execution_count": 5,
     "metadata": {},
     "output_type": "execute_result"
    }
   ],
   "source": [
    "#Comparison Operators\n",
    "a = \"Omkar\";\n",
    "b = \"Omkar\";\n",
    "a==b"
   ]
  },
  {
   "cell_type": "code",
   "execution_count": 6,
   "id": "c37c544b",
   "metadata": {},
   "outputs": [
    {
     "data": {
      "text/plain": [
       "True"
      ]
     },
     "execution_count": 6,
     "metadata": {},
     "output_type": "execute_result"
    }
   ],
   "source": [
    "a = \"Omkar\";\n",
    "b = \"omkar\";\n",
    "a!=b"
   ]
  },
  {
   "cell_type": "code",
   "execution_count": 7,
   "id": "bda42ff3",
   "metadata": {},
   "outputs": [
    {
     "data": {
      "text/plain": [
       "True"
      ]
     },
     "execution_count": 7,
     "metadata": {},
     "output_type": "execute_result"
    }
   ],
   "source": [
    "#Greater Than\n",
    "\n",
    "a = 100\n",
    "b = 20\n",
    "a>=b"
   ]
  },
  {
   "cell_type": "code",
   "execution_count": null,
   "id": "f81e2c91",
   "metadata": {},
   "outputs": [
    {
     "name": "stdout",
     "output_type": "stream",
     "text": [
      "False\n"
     ]
    }
   ],
   "source": [
    "a = True\n",
    "b = False\n",
    "\n",
    "print(a and b)"
   ]
  },
  {
   "cell_type": "code",
   "execution_count": 12,
   "id": "305b6830",
   "metadata": {},
   "outputs": [
    {
     "name": "stdout",
     "output_type": "stream",
     "text": [
      "True\n"
     ]
    }
   ],
   "source": [
    "a = True\n",
    "b = False\n",
    "\n",
    "print(a or b)"
   ]
  },
  {
   "cell_type": "code",
   "execution_count": null,
   "id": "cc54c3c3",
   "metadata": {},
   "outputs": [],
   "source": []
  }
 ],
 "metadata": {
  "kernelspec": {
   "display_name": "Python 3",
   "language": "python",
   "name": "python3"
  },
  "language_info": {
   "codemirror_mode": {
    "name": "ipython",
    "version": 3
   },
   "file_extension": ".py",
   "mimetype": "text/x-python",
   "name": "python",
   "nbconvert_exporter": "python",
   "pygments_lexer": "ipython3",
   "version": "3.12.6"
  }
 },
 "nbformat": 4,
 "nbformat_minor": 5
}
