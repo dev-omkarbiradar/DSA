{
 "cells": [
  {
   "cell_type": "markdown",
   "id": "626e9d54",
   "metadata": {},
   "source": [
    "# Conditional Statements"
   ]
  },
  {
   "cell_type": "markdown",
   "id": "a4bca270",
   "metadata": {},
   "source": [
    "## if else elif"
   ]
  },
  {
   "cell_type": "code",
   "execution_count": 2,
   "id": "67269e73",
   "metadata": {},
   "outputs": [
    {
     "name": "stdout",
     "output_type": "stream",
     "text": [
      "A is not equal to b\n"
     ]
    }
   ],
   "source": [
    "#if statement\n",
    "a = 10\n",
    "b = 20\n",
    "\n",
    "if a == b:\n",
    "    print(\"A is equal to b\")\n",
    "else:\n",
    "    print(\"A is not equal to b\")"
   ]
  },
  {
   "cell_type": "code",
   "execution_count": 3,
   "id": "0210238a",
   "metadata": {},
   "outputs": [
    {
     "name": "stdout",
     "output_type": "stream",
     "text": [
      "You are eligible to drive and vote\n"
     ]
    }
   ],
   "source": [
    "age = int(input(\"Please enter your age: \"));\n",
    "\n",
    "if age >= 18:\n",
    "    print(\"You are eligible to drive and vote\");\n",
    "else:\n",
    "    print(\"You are not elisible to vote\")"
   ]
  },
  {
   "cell_type": "code",
   "execution_count": 5,
   "id": "bcca2e4f",
   "metadata": {},
   "outputs": [
    {
     "name": "stdout",
     "output_type": "stream",
     "text": [
      "You are advised to stay safe at your home\n"
     ]
    }
   ],
   "source": [
    "age = int(input(\"Please enter your age: \"))\n",
    "\n",
    "if age >= 100:\n",
    "    print(\"You are advised to stay safe at your home\")\n",
    "elif age >= 18:\n",
    "    print(\"You are eligible to drive and vote\")\n",
    "else:\n",
    "    print(\"You are not eligible to vote\")\n"
   ]
  },
  {
   "cell_type": "code",
   "execution_count": 8,
   "id": "ee9a0d2e",
   "metadata": {},
   "outputs": [
    {
     "name": "stdout",
     "output_type": "stream",
     "text": [
      "You are eligible to vote\n"
     ]
    }
   ],
   "source": [
    "age = int(input(\"Please enter your age: \"))\n",
    "\n",
    "if age >= 21:\n",
    "    print(\"You are eligible to drink\");\n",
    "elif age >= 18:\n",
    "    print(\"You are eligible to vote\");\n",
    "else:\n",
    "    print(\"You are still a child\")"
   ]
  },
  {
   "cell_type": "code",
   "execution_count": 11,
   "id": "4199afed",
   "metadata": {},
   "outputs": [
    {
     "name": "stdout",
     "output_type": "stream",
     "text": [
      "2024  is a leap year\n"
     ]
    }
   ],
   "source": [
    "# Leap Year or not a leap year problem\n",
    "\n",
    "year = int(input(\"Please enter the year: \"));\n",
    "\n",
    "if year%4 ==0:\n",
    "    if year%100 ==0:\n",
    "        if year%400 ==0:\n",
    "            print(year,\" is a leap year \");\n",
    "        else:\n",
    "            print(year,\" is not a leap year\");\n",
    "    else:\n",
    "        print(year, \" is a leap year\")\n",
    "else:\n",
    "    print(year, \" is not a leap year\")"
   ]
  },
  {
   "cell_type": "code",
   "execution_count": 16,
   "id": "a85408d4",
   "metadata": {},
   "outputs": [
    {
     "name": "stdout",
     "output_type": "stream",
     "text": [
      "Result  Cannot divide by zero\n"
     ]
    }
   ],
   "source": [
    "# Calculator using if else conditions\n",
    "\n",
    "num1 = float(input(\"Enter your first number: \"));\n",
    "num2 = float(input(\"Enter your second number: \"));\n",
    "selectOperation = input(\"Enter operation: (+,-,*,/)\");\n",
    "\n",
    "if selectOperation == '+':\n",
    "    result = num1+num2;\n",
    "elif selectOperation == '-':\n",
    "    result = num1-num2;\n",
    "elif selectOperation == '*':\n",
    "    result = num1*num2;\n",
    "elif selectOperation == '/':\n",
    "    if num2 != 0:\n",
    "        result = num1/num2;\n",
    "    else:\n",
    "        result = \"Cannot divide by zero\"\n",
    "else:\n",
    "    result = \"invalid opeariton\";\n",
    "print(\"Result \",result)"
   ]
  },
  {
   "cell_type": "code",
   "execution_count": null,
   "id": "015246dd",
   "metadata": {},
   "outputs": [],
   "source": []
  },
  {
   "cell_type": "code",
   "execution_count": null,
   "id": "d45b5364",
   "metadata": {},
   "outputs": [],
   "source": []
  }
 ],
 "metadata": {
  "kernelspec": {
   "display_name": "Python 3",
   "language": "python",
   "name": "python3"
  },
  "language_info": {
   "codemirror_mode": {
    "name": "ipython",
    "version": 3
   },
   "file_extension": ".py",
   "mimetype": "text/x-python",
   "name": "python",
   "nbconvert_exporter": "python",
   "pygments_lexer": "ipython3",
   "version": "3.12.6"
  }
 },
 "nbformat": 4,
 "nbformat_minor": 5
}
